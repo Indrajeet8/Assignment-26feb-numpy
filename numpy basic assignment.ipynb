{
 "cells": [
  {
   "cell_type": "markdown",
   "id": "bd038778-ef47-4370-8c0c-38d0d4a9423e",
   "metadata": {},
   "source": [
    "Numpy Basic"
   ]
  },
  {
   "cell_type": "markdown",
   "id": "826b8c96-4921-43dd-b64d-0b2ef914aa38",
   "metadata": {},
   "source": [
    "Assignment Questions"
   ]
  },
  {
   "cell_type": "markdown",
   "id": "64630937-417b-4fcf-9e48-cd0910187547",
   "metadata": {},
   "source": [
    "import numpy as np\n",
    "list_ = [ ‘1’ , ’2’ , ‘3’ , ‘4’ , ‘5’ ]\n",
    "array_list = np.array(object = list_)\n",
    "\n",
    "\n",
    "Q1. Is there any difference in the data type of variables list_ and array_list? If there is then write a code\n",
    "to print the data types of both the variables."
   ]
  },
  {
   "cell_type": "markdown",
   "id": "6eda90c3-349e-4ca2-9a09-7b56da958a53",
   "metadata": {},
   "source": [
    "Ans--"
   ]
  },
  {
   "cell_type": "markdown",
   "id": "0366eb6b-7c15-43f4-9b0b-e4295dbb4628",
   "metadata": {},
   "source": [
    "Yes, there is a difference in the data type of the variables list_ and array_list.\n",
    "\n",
    "The variable list_ is a Python list, whereas array_list is a numpy array.\n",
    "\n",
    "You can print the data types of both variables using the type() function "
   ]
  },
  {
   "cell_type": "code",
   "execution_count": 1,
   "id": "f9dba8a9-f652-4d63-a991-3c060e7853f6",
   "metadata": {},
   "outputs": [
    {
     "name": "stdout",
     "output_type": "stream",
     "text": [
      "<class 'list'>\n",
      "<class 'numpy.ndarray'>\n"
     ]
    }
   ],
   "source": [
    "import numpy as np\n",
    "\n",
    "list_ = ['1', '2', '3', '4', '5']\n",
    "array_list = np.array(list_)\n",
    "\n",
    "print(type(list_))\n",
    "print(type(array_list))\n"
   ]
  },
  {
   "cell_type": "code",
   "execution_count": null,
   "id": "fdee6d2b-90f6-4dd5-aa7f-72273b1ade9c",
   "metadata": {},
   "outputs": [],
   "source": []
  },
  {
   "cell_type": "markdown",
   "id": "fd42ffd3-0ba8-4bf7-a3a5-35dafebea27d",
   "metadata": {},
   "source": [
    "Q2. Write a code to print the data type of each and every element of both the variables list_ and arra_list.\n"
   ]
  },
  {
   "cell_type": "markdown",
   "id": "488c5523-9ad8-433d-8548-34a4cdd6ea21",
   "metadata": {},
   "source": [
    "Ans--"
   ]
  },
  {
   "cell_type": "code",
   "execution_count": 2,
   "id": "4a3d16f7-c6a3-4d8d-b944-7f0e5916a514",
   "metadata": {},
   "outputs": [
    {
     "name": "stdout",
     "output_type": "stream",
     "text": [
      "<class 'list'>\n",
      "<class 'numpy.ndarray'>\n"
     ]
    }
   ],
   "source": [
    "import numpy as np\n",
    "\n",
    "list_ = ['1', '2', '3', '4', '5']\n",
    "array_list = np.array(list_)\n",
    "\n",
    "print(type(list_))\n",
    "print(type(array_list))"
   ]
  },
  {
   "cell_type": "code",
   "execution_count": null,
   "id": "e347fd14-0f47-4bef-a023-9d51db01e058",
   "metadata": {},
   "outputs": [],
   "source": []
  },
  {
   "cell_type": "markdown",
   "id": "280575e8-dfef-48a9-9b89-7251473729f1",
   "metadata": {},
   "source": [
    "Q3. Considering the following changes in the variable, array_list:\n",
    "array_list = np.array(object = list_, dtype = int)\n",
    "Will there be any difference in the data type of the elements present in both the variables, list_ and\n",
    "arra_list? If so then print the data types of each and every element present in both the variables, list_\n",
    "and arra_list.\n",
    "Consider the below code to answer further questions:\n",
    "import numpy as np\n",
    "num_list = [ [ 1 , 2 , 3 ] , [ 4 , 5 , 6 ] ]\n",
    "num_array = np.array(object = num_list)"
   ]
  },
  {
   "cell_type": "code",
   "execution_count": 4,
   "id": "9c48e9cb-bb00-403d-9d64-f9cc299f8911",
   "metadata": {},
   "outputs": [
    {
     "name": "stdout",
     "output_type": "stream",
     "text": [
      "Data types of elements in 'list_':\n",
      "<class 'str'>\n",
      "<class 'str'>\n",
      "<class 'str'>\n",
      "<class 'str'>\n",
      "<class 'str'>\n",
      "Data types of elements in 'array_list':\n",
      "<class 'numpy.int64'>\n",
      "<class 'numpy.int64'>\n",
      "<class 'numpy.int64'>\n",
      "<class 'numpy.int64'>\n",
      "<class 'numpy.int64'>\n"
     ]
    }
   ],
   "source": [
    "list_ = ['1', '2', '3', '4', '5']\n",
    "array_list = np.array(list_, dtype=int)\n",
    "\n",
    "print(\"Data types of elements in 'list_':\")\n",
    "for element in list_:\n",
    "    print(type(element))\n",
    "\n",
    "print(\"Data types of elements in 'array_list':\")\n",
    "for element in array_list:\n",
    "    print(type(element))\n"
   ]
  },
  {
   "cell_type": "code",
   "execution_count": null,
   "id": "0c8d4a02-341f-4597-ae50-c472273897ef",
   "metadata": {},
   "outputs": [],
   "source": []
  },
  {
   "cell_type": "markdown",
   "id": "23914cfd-9d0a-4e43-919f-b9d9ded7469f",
   "metadata": {},
   "source": [
    "Q4. Write a code to find the following characteristics of variable, num_array:\n",
    "(i) shape\n",
    "(ii) size"
   ]
  },
  {
   "cell_type": "code",
   "execution_count": 5,
   "id": "840e898d-9ca8-45f9-8419-94340d0290f3",
   "metadata": {},
   "outputs": [],
   "source": [
    "import numpy as np\n",
    "arr = np.random.randint(1,10 , (3,4))"
   ]
  },
  {
   "cell_type": "code",
   "execution_count": 6,
   "id": "1075bd0d-5565-47cc-8efc-6b8f1400e63d",
   "metadata": {},
   "outputs": [
    {
     "data": {
      "text/plain": [
       "array([[7, 6, 6, 6],\n",
       "       [5, 3, 5, 1],\n",
       "       [8, 6, 6, 2]])"
      ]
     },
     "execution_count": 6,
     "metadata": {},
     "output_type": "execute_result"
    }
   ],
   "source": [
    "arr"
   ]
  },
  {
   "cell_type": "code",
   "execution_count": 7,
   "id": "c7e1bda7-96ce-474e-82f9-c8dcedcc1262",
   "metadata": {},
   "outputs": [
    {
     "data": {
      "text/plain": [
       "array([[7, 6],\n",
       "       [6, 6],\n",
       "       [5, 3],\n",
       "       [5, 1],\n",
       "       [8, 6],\n",
       "       [6, 2]])"
      ]
     },
     "execution_count": 7,
     "metadata": {},
     "output_type": "execute_result"
    }
   ],
   "source": [
    "arr.reshape(6,2)"
   ]
  },
  {
   "cell_type": "raw",
   "id": "799f61af-69fc-4d02-8f64-730a5bb9697b",
   "metadata": {},
   "source": []
  },
  {
   "cell_type": "code",
   "execution_count": 8,
   "id": "f1c0fc2e-5368-4745-b49d-82c2f76f9159",
   "metadata": {},
   "outputs": [
    {
     "data": {
      "text/plain": [
       "12"
      ]
     },
     "execution_count": 8,
     "metadata": {},
     "output_type": "execute_result"
    }
   ],
   "source": [
    "arr.size"
   ]
  },
  {
   "cell_type": "code",
   "execution_count": null,
   "id": "ea22908c-280f-4548-9262-9dce711713d0",
   "metadata": {},
   "outputs": [],
   "source": []
  },
  {
   "cell_type": "markdown",
   "id": "18310143-363e-4a93-969e-f43802592d2f",
   "metadata": {},
   "source": [
    "Q5. Write a code to create numpy array of 3*3 matrix containing zeros only, using a numpy array\n",
    "creation function."
   ]
  },
  {
   "cell_type": "code",
   "execution_count": 9,
   "id": "72dc8e5f-6220-4602-a201-147fec7836c3",
   "metadata": {},
   "outputs": [],
   "source": [
    "import numpy as np\n"
   ]
  },
  {
   "cell_type": "code",
   "execution_count": 13,
   "id": "2ba6981b-2f44-4205-898b-019e411a3117",
   "metadata": {},
   "outputs": [
    {
     "name": "stdout",
     "output_type": "stream",
     "text": [
      "[[0. 0. 0.]\n",
      " [0. 0. 0.]\n",
      " [0. 0. 0.]]\n"
     ]
    }
   ],
   "source": [
    "\n",
    "zeros_array = np.zeros((3, 3))\n",
    "print(zeros_array)\n"
   ]
  },
  {
   "cell_type": "code",
   "execution_count": null,
   "id": "153e5176-5b0a-49b7-a89e-16a69ef65b0a",
   "metadata": {},
   "outputs": [],
   "source": []
  },
  {
   "cell_type": "markdown",
   "id": "451042a8-1962-4cc3-a7aa-126a62e373b4",
   "metadata": {},
   "source": [
    "Q6. Create an identity matrix of shape (5,5) using numpy functions?"
   ]
  },
  {
   "cell_type": "code",
   "execution_count": 14,
   "id": "9cea8d03-e663-41a0-b06d-5eeb9e53de11",
   "metadata": {},
   "outputs": [],
   "source": [
    "import numpy as np "
   ]
  },
  {
   "cell_type": "code",
   "execution_count": 16,
   "id": "7532c92a-7fd1-4cb0-a597-d3d614692423",
   "metadata": {},
   "outputs": [],
   "source": [
    "zeros_array = np.zeros((5,5))\n"
   ]
  },
  {
   "cell_type": "code",
   "execution_count": 17,
   "id": "25c5bd8d-e396-4446-bd65-27da28880db4",
   "metadata": {},
   "outputs": [
    {
     "name": "stdout",
     "output_type": "stream",
     "text": [
      "[[0. 0. 0. 0. 0.]\n",
      " [0. 0. 0. 0. 0.]\n",
      " [0. 0. 0. 0. 0.]\n",
      " [0. 0. 0. 0. 0.]\n",
      " [0. 0. 0. 0. 0.]]\n"
     ]
    }
   ],
   "source": [
    "print(zeros_array)"
   ]
  },
  {
   "cell_type": "code",
   "execution_count": null,
   "id": "d48d9130-ec93-4a61-810b-e65dd7b03d4f",
   "metadata": {},
   "outputs": [],
   "source": []
  }
 ],
 "metadata": {
  "kernelspec": {
   "display_name": "Python 3 (ipykernel)",
   "language": "python",
   "name": "python3"
  },
  "language_info": {
   "codemirror_mode": {
    "name": "ipython",
    "version": 3
   },
   "file_extension": ".py",
   "mimetype": "text/x-python",
   "name": "python",
   "nbconvert_exporter": "python",
   "pygments_lexer": "ipython3",
   "version": "3.10.8"
  }
 },
 "nbformat": 4,
 "nbformat_minor": 5
}
